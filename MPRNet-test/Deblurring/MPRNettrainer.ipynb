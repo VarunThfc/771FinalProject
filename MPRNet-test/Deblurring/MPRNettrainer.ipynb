{
 "cells": [
  {
   "cell_type": "code",
   "execution_count": null,
   "metadata": {},
   "outputs": [],
   "source": [
    "import os\n",
    "from tqdm import tqdm\n",
    "\n",
    "import torch.nn as nn\n",
    "import torch\n",
    "from torch.utils.data import DataLoader\n",
    "import torchvision.transforms.transforms as TF\n",
    "import torch.optim as optim\n",
    "torch.backends.cudnn.benchmark = True\n",
    "\n",
    "import cv2\n",
    "import numpy as np\n",
    "from PIL import Image\n",
    "import pandas as pd\n",
    "import random\n",
    "import time\n",
    "import matplotlib.pyplot as plt\n",
    "\n",
    "from MPRNet import MPRNet\n",
    "import utils\n",
    "from customDataSet import CustomDataset\n",
    "import losses\n",
    "from warmup_scheduler import GradualWarmupScheduler\n",
    "from tqdm import tqdm\n",
    "from pdb import set_trace as stx\n",
    "\n",
    "%load_ext autoreload\n",
    "%autoreload 2\n",
    "cuda_device = torch.device(\"cuda\")\n",
    "doc_dir = \"../../publaynet/\"\n",
    "result_dir = \"../results/transfer\"\n",
    "utils.mkdir(result_dir)"
   ]
  },
  {
   "cell_type": "code",
   "execution_count": null,
   "metadata": {},
   "outputs": [],
   "source": [
    "start_epoch = 1\n",
    "mode = \"Deblurring\"\n",
    "session = \"MPRNet\"\n",
    "\n",
    "result_dir   = os.path.join(result_dir)\n",
    "original_dir = os.path.join(result_dir, \"original\")\n",
    "blurred_dir  = os.path.join(result_dir, \"blurred\")\n",
    "restored_dir = os.path.join(result_dir, \"restored\")\n",
    "model_dir    = os.path.join(result_dir, \"models\")\n",
    "\n",
    "utils.mkdir(result_dir)\n",
    "utils.mkdir(original_dir)\n",
    "utils.mkdir(blurred_dir)\n",
    "utils.mkdir(restored_dir)\n",
    "utils.mkdir(model_dir)"
   ]
  },
  {
   "cell_type": "code",
   "execution_count": null,
   "metadata": {},
   "outputs": [],
   "source": [
    "device_ids = [i for i in range(torch.cuda.device_count())]\n",
    "if torch.cuda.device_count() > 1:\n",
    "  print(\"\\n\\nLet's use\", torch.cuda.device_count(), \"GPUs!\\n\\n\")"
   ]
  },
  {
   "cell_type": "code",
   "execution_count": null,
   "metadata": {},
   "outputs": [],
   "source": [
    "model_restoration = MPRNet()\n",
    "model_restoration.cuda()\n",
    "if len(device_ids)>1:\n",
    "    model_restoration = nn.DataParallel(model_restoration, device_ids = device_ids)"
   ]
  },
  {
   "cell_type": "code",
   "execution_count": null,
   "metadata": {},
   "outputs": [],
   "source": [
    "weights_ = \"./pretrained_models/model_deblurring.pth\"\n",
    "utils.load_checkpoint(model_restoration, weights_)"
   ]
  },
  {
   "cell_type": "code",
   "execution_count": null,
   "metadata": {},
   "outputs": [],
   "source": [
    "new_lr = 2e-4\n",
    "optimizer = optim.Adam(model_restoration.parameters(), lr=new_lr, betas=(0.9, 0.999),eps=1e-8)\n",
    "num_epochs = 100"
   ]
  },
  {
   "cell_type": "code",
   "execution_count": null,
   "metadata": {},
   "outputs": [],
   "source": [
    "warmup_epochs = 3\n",
    "scheduler_cosine = optim.lr_scheduler.CosineAnnealingLR(optimizer, num_epochs-warmup_epochs, eta_min=1e-6)\n",
    "scheduler = GradualWarmupScheduler(optimizer, multiplier=1, total_epoch=warmup_epochs, after_scheduler=scheduler_cosine)\n",
    "scheduler.step()"
   ]
  },
  {
   "cell_type": "code",
   "execution_count": null,
   "metadata": {},
   "outputs": [],
   "source": [
    "criterion_char = losses.CharbonnierLoss()\n",
    "criterion_edge = losses.EdgeLoss()"
   ]
  },
  {
   "cell_type": "code",
   "execution_count": null,
   "metadata": {},
   "outputs": [],
   "source": [
    "train_data = CustomDataset(doc_dir, output_dim=(400,400), filter=False, type=\"train\")\n",
    "train_loader = DataLoader(dataset=train_data, batch_size=4, shuffle=True, num_workers=16, drop_last=False, pin_memory=True)"
   ]
  },
  {
   "cell_type": "code",
   "execution_count": null,
   "metadata": {},
   "outputs": [],
   "source": [
    "val_data = CustomDataset(doc_dir, output_dim=(400,400), filter=False, type=\"val\")\n",
    "val_loader = DataLoader(dataset=val_data, batch_size=4, shuffle=True, num_workers=16, drop_last=False, pin_memory=True)"
   ]
  },
  {
   "cell_type": "code",
   "execution_count": null,
   "metadata": {},
   "outputs": [],
   "source": [
    "best_psnr = 0\n",
    "best_epoch = 0\n",
    "\n",
    "for epoch in range(start_epoch, num_epochs + 1):\n",
    "    epoch_start_time = time.time()\n",
    "    epoch_loss = 0\n",
    "    train_id = 1\n",
    "\n",
    "    model_restoration.train()\n",
    "    for i, data in enumerate(tqdm(train_loader), 0):\n",
    "\n",
    "        # zero_grad\n",
    "        for param in model_restoration.parameters():\n",
    "            param.grad = None\n",
    "\n",
    "        target = data[0].cuda()\n",
    "        input_ = data[1].cuda()\n",
    "\n",
    "        restored = model_restoration(input_)\n",
    " \n",
    "        # Compute loss at each stage\n",
    "        loss_char = np.sum([criterion_char(restored[j],target) for j in range(len(restored))])\n",
    "        loss_edge = np.sum([criterion_edge(restored[j],target) for j in range(len(restored))])\n",
    "        loss = (loss_char) + (0.05*loss_edge)\n",
    "       \n",
    "        loss.backward()\n",
    "        optimizer.step()\n",
    "        epoch_loss +=loss.item()\n",
    "\n",
    "    #### Evaluation ####\n",
    "    if epoch%20 == 0:\n",
    "        model_restoration.eval()\n",
    "        psnr_val_rgb = []\n",
    "        for ii, data_val in enumerate((val_loader), 0):\n",
    "            target = data_val[0].cuda()\n",
    "            input_ = data_val[1].cuda()\n",
    "\n",
    "            with torch.no_grad():\n",
    "                restored = model_restoration(input_)\n",
    "            restored = restored[0]\n",
    "\n",
    "            for res,tar in zip(restored,target):\n",
    "                psnr_val_rgb.append(utils.torchPSNR(res, tar))\n",
    "\n",
    "        psnr_val_rgb  = torch.stack(psnr_val_rgb).mean().item()\n",
    "\n",
    "        if psnr_val_rgb > best_psnr:\n",
    "            best_psnr = psnr_val_rgb\n",
    "            best_epoch = epoch\n",
    "            torch.save({'epoch': epoch, \n",
    "                        'state_dict': model_restoration.state_dict(),\n",
    "                        'optimizer' : optimizer.state_dict()\n",
    "                        }, os.path.join(model_dir,\"model_best.pth\"))\n",
    "\n",
    "        print(\"[epoch %d PSNR: %.4f --- best_epoch %d Best_PSNR %.4f]\" % (epoch, psnr_val_rgb, best_epoch, best_psnr))\n",
    "\n",
    "        torch.save({'epoch': epoch, \n",
    "                    'state_dict': model_restoration.state_dict(),\n",
    "                    'optimizer' : optimizer.state_dict()\n",
    "                    }, os.path.join(model_dir,f\"model_epoch_{epoch}.pth\")) \n",
    "\n",
    "    scheduler.step()\n",
    "    \n",
    "    print(\"------------------------------------------------------------------\")\n",
    "    print(\"Epoch: {}\\tTime: {:.4f}\\tLoss: {:.4f}\\tLearningRate {:.6f}\".format(epoch, time.time()-epoch_start_time, epoch_loss, scheduler.get_lr()[0]))\n",
    "    print(\"------------------------------------------------------------------\")\n",
    "\n",
    "    torch.save({'epoch': epoch, \n",
    "                'state_dict': model_restoration.state_dict(),\n",
    "                'optimizer' : optimizer.state_dict()\n",
    "                }, os.path.join(model_dir,\"model_latest.pth\"))"
   ]
  },
  {
   "cell_type": "code",
   "execution_count": null,
   "metadata": {},
   "outputs": [],
   "source": [
    "with torch.no_grad():\n",
    "    psnr_val_rgb = []\n",
    "    topil = TF.ToPILImage()\n",
    "    for ii, data_test in enumerate(tqdm(dataloader), 0):\n",
    "        # torch.cuda.ipc_collect()\n",
    "        # torch.cuda.empty_cache()\n",
    "\n",
    "        blurr = data_test[0].cuda()\n",
    "        gt = data_test[1].cpu().detach()\n",
    "        filenames = data_test[2]\n",
    "\n",
    "        restored = model_restoration(blurr)\n",
    "        restored = torch.clamp(restored[0],0,1)\n",
    "\n",
    "        restored = restored.cpu().detach()\n",
    "        blurr = blurr.cpu().detach()\n",
    "\n",
    "        for batch in range(len(restored)):\n",
    "            restored_img = restored[batch]\n",
    "            psnr_val_rgb.append(utils.torchPSNR(restored_img, gt[batch]))\n",
    "            utils.save_img((os.path.join(restored_dir, filenames[batch]+'.png')), topil(restored_img))\n",
    "            utils.save_img((os.path.join(original_dir, filenames[batch]+'.png')), topil(gt[batch]))\n",
    "            utils.save_img((os.path.join(blurred_dir, filenames[batch]+'.png')), topil(blurr[batch]))"
   ]
  }
 ],
 "metadata": {
  "kernelspec": {
   "display_name": "Python 3.7.9 64-bit",
   "language": "python",
   "name": "python3"
  },
  "language_info": {
   "codemirror_mode": {
    "name": "ipython",
    "version": 3
   },
   "file_extension": ".py",
   "mimetype": "text/x-python",
   "name": "python",
   "nbconvert_exporter": "python",
   "pygments_lexer": "ipython3",
   "version": "3.7.9"
  },
  "orig_nbformat": 4,
  "vscode": {
   "interpreter": {
    "hash": "949777d72b0d2535278d3dc13498b2535136f6dfe0678499012e853ee9abcab1"
   }
  }
 },
 "nbformat": 4,
 "nbformat_minor": 2
}
